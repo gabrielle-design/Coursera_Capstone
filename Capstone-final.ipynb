{
 "cells": [
  {
   "cell_type": "markdown",
   "metadata": {
    "collapsed": true
   },
   "source": [
    "## Introduction/Business Problem\n",
    "\n",
    "Lima is the capital of Peru, a country known for its rich culture, its beautiful beaches, tourist spots, and delicious cuisine. The capital has many tourist places that many people, including its own citizens, do not know. That is why I decided to focus my project in Lima, Peru. The main objective is to focus on at least 5 tourist places, and find the best hotels based on reputation and proximity to the place.\n",
    "\n"
   ]
  },
  {
   "cell_type": "markdown",
   "metadata": {},
   "source": [
    "## Data\n",
    "\n",
    "The data will be obtained mainly from Foursquare, I will use the information they have from the hotels around the area. I'll use features such as location.formattedAddress,location.distancento and location.city determine the safest hotels for tourists.Also, I'll be using information from https://es.wikipedia.org/wiki/Provincia_de_Lima, to extract the postal code of every district in Lima.\n"
   ]
  },
  {
   "cell_type": "code",
   "execution_count": null,
   "metadata": {},
   "outputs": [],
   "source": []
  }
 ],
 "metadata": {
  "kernelspec": {
   "display_name": "Python 3.7",
   "language": "python",
   "name": "python3"
  },
  "language_info": {
   "codemirror_mode": {
    "name": "ipython",
    "version": 3
   },
   "file_extension": ".py",
   "mimetype": "text/x-python",
   "name": "python",
   "nbconvert_exporter": "python",
   "pygments_lexer": "ipython3",
   "version": "3.7.9"
  }
 },
 "nbformat": 4,
 "nbformat_minor": 1
}
